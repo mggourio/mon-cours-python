{
 "cells": [
  {
   "cell_type": "markdown",
   "metadata": {},
   "source": [
    "# Chapitre 2 - Les fonctions et les fichiers"
   ]
  },
  {
   "cell_type": "markdown",
   "metadata": {},
   "source": [
    "-- *A Python Course for the Humanities by Folgert Karsdorp and Maarten van Gompel*"
   ]
  },
  {
   "cell_type": "markdown",
   "metadata": {},
   "source": [
    "---"
   ]
  },
  {
   "cell_type": "markdown",
   "metadata": {},
   "source": [
    "Le chapitre précédent a, espérons-le, aiguiser votre appétit. Dans ce chapitre, nous allons nous concentrer sur l'une des tâches les plus importantes de la recherche en sciences humaines: le traitement du texte. L'un des objectifs du traitement de texte est de nettoyer vos données pour ensuite faire leur analyse. Un autre objectif banal consiste à convertir une collection de textes en un format différent: par exemple de fichiers textes vers fichiers XML TEI. Dans ce chapitre, nous allons vous fournir les outils nécessaires pour travailler avec des collections de textes, les nettoyer et effectuer quelques analyses de données rudimentaires sur eux."
   ]
  },
  {
   "cell_type": "markdown",
   "metadata": {},
   "source": [
    "## Lire des fichiers"
   ]
  },
  {
   "cell_type": "markdown",
   "metadata": {},
   "source": [
    "Supposons que vous ayez un texte stocké sur votre ordinateur. Comment pouvons-nous lire ce texte en utilisant Python? Python fournit une fonction très simple appelée `open` avec laquelle on peut lire des textes. Dans le dossier `data`, vous trouverez quelques petits extraits de texte que nous utiliserons dans ce chapitre. Regardez-les si vous en avez l'envie. Nous pouvons ouvrir ces fichiers avec la commande suivante:"
   ]
  },
  {
   "cell_type": "code",
   "execution_count": 1,
   "metadata": {},
   "outputs": [],
   "source": [
    "fichier_ouvert = open('data/cid.v1071.1682.txt')"
   ]
  },
  {
   "cell_type": "markdown",
   "metadata": {},
   "source": [
    "Maintenant, affichons la variable `fichier_ouvert`. Que pensez-vous qu'il arrivera ? "
   ]
  },
  {
   "cell_type": "code",
   "execution_count": 2,
   "metadata": {},
   "outputs": [
    {
     "name": "stdout",
     "output_type": "stream",
     "text": [
      "<_io.TextIOWrapper name='data/cid.v1071.1682.txt' mode='r' encoding='UTF-8'>\n"
     ]
    }
   ],
   "source": [
    "print(fichier_ouvert)"
   ]
  },
  {
   "cell_type": "markdown",
   "metadata": {},
   "source": [
    "\"Je pensais pas que ça ferait ça\" est probablement ce qui vous passe à l'esprit. Python n'affiche pas le contenu du fichier mais seulement une mention mystérieuse d'un certain `TextIOWrapper`. Ce truc de `TextIOWrapper` est la façon de Python de dire qu'il a ouvert une connexion au fichier `data/cid.v1071.1682.txt`. \n",
    "\n",
    "Mais cela nous donne également des informations auxquelles nous devrions prêter attention. Regardez la partie qui commence `encoding=`. `UTF-8` est le modèle d'encodage des caractères du fichier (Vous pouvez en apprendre un peu plus sur la chaine Computerphile : https://www.youtube.com/watch?v=MijmeoH9LT4 ). Par défaut, Python3 (contrairement à Python 2) gère ses données en UTF-8. On aurait pu cependant faire ce qui suit:"
   ]
  },
  {
   "cell_type": "code",
   "execution_count": 3,
   "metadata": {},
   "outputs": [
    {
     "name": "stdout",
     "output_type": "stream",
     "text": [
      "<_io.TextIOWrapper name='data/cid.v1071.1682.txt' mode='r' encoding='latin'>\n"
     ]
    }
   ],
   "source": [
    "encodage_latin = open('data/cid.v1071.1682.txt', encoding='latin')\n",
    "print(encodage_latin)"
   ]
  },
  {
   "cell_type": "markdown",
   "metadata": {},
   "source": [
    "Vous avez pour `encodage_latin` `encoding='latin'` dans la description de ce `TextIOWrapper`. Vous devrez vous assurer de toujours spécifier votre encodage comme UTF-8 si vous travaillez avec des textes grecs dans Windows. Cependant, les systèmes Linux et Mac ne devraient pas en avoir besoin.\n",
    "\n",
    "Maintenant, si nous voulons *lire* le contenu du fichier, nous devons ajouter la fonction `read` comme suit:"
   ]
  },
  {
   "cell_type": "code",
   "execution_count": 4,
   "metadata": {},
   "outputs": [
    {
     "name": "stdout",
     "output_type": "stream",
     "text": [
      "Il n'est pas temps encor de chercher le trépas :\n",
      "Ton prince et ton pays ont besoin de ton bras.\n",
      "La flotte qu'on craignait, dans ce grand fleuve entrée,\n",
      "Croit surprendre la ville et piller la contrée.\n",
      "Les Mores vont descendre, et le flux et la nuit\n",
      "Dans une heure à nos murs les amène sans bruit.\n",
      "La Cour est en désordre, et le peuple en alarmes :\n",
      "On n'entend que des cris, on ne voit que des larmes.\n",
      "Dans ce malheur public mon bonheur a permis\n",
      "Que j'ai trouvé chez moi cinq cents de mes amis,\n",
      "Qui sachant mon affront, poussés d'un même zèle,\n",
      "Se venaient tous offrir à venger ma querelle.\n",
      "Tu les as prévenus ; mais leurs vaillantes mains\n",
      "Se tremperont bien mieux au sang des Africains.\n",
      "Va marcher à leur tete où l'honneur te demande :\n",
      "C'est toi que veut pour chef leur généreuse bande.\n",
      "De ces vieux ennemis va soutenir l'abord :\n",
      "Là, si tu veux mourir, trouve une belle mort ;\n",
      "Prends-en l'occasion, puisqu'elle t'est offerte ;\n",
      "Fais devoir à ton roi son salut à ta perte ;\n",
      "Mais reviens-en plutôt les palmes sur le front.\n",
      "Ne borne pas ta gloire à venger un affront ;\n",
      "Porte-la plus avant : force par ta vaillance\n",
      "Ce monarque au pardon, et Chimène au silence ;\n",
      "Si tu l'aimes, apprends que revenir vainqueur,\n",
      "C'est l'unique moyen de regagner son coeur.\n",
      "Mais le temps est trop cher pour le perdre en paroles ;\n",
      "Je t'arrete en discours, et je veux que tu voles.\n",
      "Viens, suis-moi, va combattre, et montrer à ton roi\n",
      "Que ce qu'il perd au comte il le recouvre en toi.\n"
     ]
    }
   ],
   "source": [
    "print(fichier_ouvert.read())"
   ]
  },
  {
   "cell_type": "markdown",
   "metadata": {},
   "source": [
    "`read` est une fonction qui fonctionne sur les objets` TextWrapper` et nous permet de lire le contenu d'un fichier dans Python. Assignons le contenu du fichier à la variable `texte`:"
   ]
  },
  {
   "cell_type": "code",
   "execution_count": 5,
   "metadata": {},
   "outputs": [],
   "source": [
    "# Ajoutez `encoding='UTF-8'` si nécessaire\n",
    "fichier_ouvert = open('data/cid.v1071.1682.txt') \n",
    "texte = fichier_ouvert.read()"
   ]
  },
  {
   "cell_type": "markdown",
   "metadata": {},
   "source": [
    "La variable `texte` contient le contenu du fichier `data/cid.v1071.1682.txt` et nous pouvons le manipuler désormais comme n'importe quelle autre chaîne. Après avoir lu le contenu d'un fichier, le `TextWrapper` n'a plus besoin d'être ouvert. En fait, il est bon de le fermer dès que vous n'en avez plus besoin. Pour ce faire, il suffit d'utiliser la méthode `close()`:"
   ]
  },
  {
   "cell_type": "code",
   "execution_count": 6,
   "metadata": {},
   "outputs": [],
   "source": [
    "fichier_ouvert.close()"
   ]
  },
  {
   "cell_type": "markdown",
   "metadata": {},
   "source": [
    "---"
   ]
  },
  {
   "cell_type": "markdown",
   "metadata": {},
   "source": [
    "#### Exercice"
   ]
  },
  {
   "cell_type": "markdown",
   "metadata": {},
   "source": [
    "Juste pour récapituler certaines des choses que nous avons apprises dans le chapitre précédent. Pouvez-vous écrire un bloc de code qui définit la variable `nombre_de_e` et compte combien de fois la lettre *e* se trouve dans le « texte »? (Astuce: utilisez une boucle `for` et une instruction `if`).\n",
    "\n",
    "Prenez aussi le temps de comprendre `assert` qui nous permet de vérifier vos travaux. "
   ]
  },
  {
   "cell_type": "code",
   "execution_count": 21,
   "metadata": {},
   "outputs": [
    {
     "name": "stdout",
     "output_type": "stream",
     "text": [
      "182\n"
     ]
    }
   ],
   "source": [
    "nombre_de_e = 0\n",
    "# Votre code ici\n",
    "for lettre in texte:\n",
    "    if lettre == \"e\":\n",
    "        nombre_de_e += 1\n",
    "print(nombre_de_e)\n",
    "\n",
    "# Ce code vérifiera ce que vous avez écrit\n",
    "assert nombre_de_e == 182, \"On devrait trouver 182 'e'\""
   ]
  },
  {
   "cell_type": "markdown",
   "metadata": {},
   "source": [
    "Enfin, il existe une autre syntaxe pour gérer un fichier à ouvrir et lire : il s'agit d'utiliser la déclaration `with` :"
   ]
  },
  {
   "cell_type": "code",
   "execution_count": 1,
   "metadata": {},
   "outputs": [],
   "source": [
    "with open(\"data/cid.v1071.1682.txt\") as fichier_cid:\n",
    "    texte = fichier_cid.read()"
   ]
  },
  {
   "cell_type": "markdown",
   "metadata": {},
   "source": [
    "Cette méthode a cela de particulier qu'elle ferme d'elle-même le fichier qui a été ouvert. Tout comme un `if`, le with concerne l'ensemble du bloc ouvert en-dessous du `with` et permet de faire des opérations sur le fichier. On remarque l'utilisation de `as` : en français, on traduirait cette ligne en `avec le fichier ouvert cid.v1071.1682.txt en tant que variable fichier_cid`.\n",
    "\n",
    "Par ailleurs, les variables modifiées dans cet ensemble sont encore disponible à la fin. Mais le fichier sera clos. Pouvez-vous deviner ce qui se passera avec les lignes suivantes :"
   ]
  },
  {
   "cell_type": "code",
   "execution_count": 23,
   "metadata": {},
   "outputs": [
    {
     "name": "stdout",
     "output_type": "stream",
     "text": [
      "Il n'est pas temps encor de chercher le trépas :\n",
      "Ton prince et ton pays ont besoin de ton bras.\n",
      "La flotte qu'on craignait, dans ce grand fleuve entrée,\n",
      "Croit surprendre la ville et piller la contrée.\n",
      "Les Mores vont descendre, et le flux et la nuit\n",
      "Dans une heure à nos murs les amène sans bruit.\n",
      "La Cour est en désordre, et le peuple en alarmes :\n",
      "On n'entend que des cris, on ne voit que des larmes.\n",
      "Dans ce malheur public mon bonheur a permis\n",
      "Que j'ai trouvé chez moi cinq cents de mes amis,\n",
      "Qui sachant mon affront, poussés d'un même zèle,\n",
      "Se venaient tous offrir à venger ma querelle.\n",
      "Tu les as prévenus ; mais leurs vaillantes mains\n",
      "Se tremperont bien mieux au sang des Africains.\n",
      "Va marcher à leur tete où l'honneur te demande :\n",
      "C'est toi que veut pour chef leur généreuse bande.\n",
      "De ces vieux ennemis va soutenir l'abord :\n",
      "Là, si tu veux mourir, trouve une belle mort ;\n",
      "Prends-en l'occasion, puisqu'elle t'est offerte ;\n",
      "Fais devoir à ton roi son salut à ta perte ;\n",
      "Mais reviens-en plutôt les palmes sur le front.\n",
      "Ne borne pas ta gloire à venger un affront ;\n",
      "Porte-la plus avant : force par ta vaillance\n",
      "Ce monarque au pardon, et Chimène au silence ;\n",
      "Si tu l'aimes, apprends que revenir vainqueur,\n",
      "C'est l'unique moyen de regagner son coeur.\n",
      "Mais le temps est trop cher pour le perdre en paroles ;\n",
      "Je t'arrete en discours, et je veux que tu voles.\n",
      "Viens, suis-moi, va combattre, et montrer à ton roi\n",
      "Que ce qu'il perd au comte il le recouvre en toi.\n"
     ]
    },
    {
     "ename": "ValueError",
     "evalue": "I/O operation on closed file.",
     "output_type": "error",
     "traceback": [
      "\u001b[0;31m---------------------------------------------------------------------------\u001b[0m",
      "\u001b[0;31mValueError\u001b[0m                                Traceback (most recent call last)",
      "\u001b[0;32m<ipython-input-23-c56f9df1c443>\u001b[0m in \u001b[0;36m<module>\u001b[0;34m()\u001b[0m\n\u001b[1;32m      1\u001b[0m \u001b[0mprint\u001b[0m\u001b[0;34m(\u001b[0m\u001b[0mtexte\u001b[0m\u001b[0;34m)\u001b[0m\u001b[0;34m\u001b[0m\u001b[0m\n\u001b[0;32m----> 2\u001b[0;31m \u001b[0mfichier_cid\u001b[0m\u001b[0;34m.\u001b[0m\u001b[0mread\u001b[0m\u001b[0;34m(\u001b[0m\u001b[0;34m)\u001b[0m\u001b[0;34m\u001b[0m\u001b[0m\n\u001b[0m",
      "\u001b[0;31mValueError\u001b[0m: I/O operation on closed file."
     ]
    }
   ],
   "source": [
    "print(texte)\n",
    "fichier_cid.read()"
   ]
  },
  {
   "cell_type": "markdown",
   "metadata": {},
   "source": [
    "`I/O Operation` signifie `Input/Output` et vise les méthodes de lecture et d'écriture de fichiers. Notre fichier ayant été clos après `with`, il n'est plus possible de le lire."
   ]
  },
  {
   "cell_type": "markdown",
   "metadata": {},
   "source": [
    "#### Ce que l'on a appris\n",
    "\n",
    "Pour finir cette section, voici un récapitulatif des concepts appris. Lisez la liste et posez des questions si certaines choses ne sont pas claires.\n",
    "\n",
    "- `open()`\n",
    "- `UTF-8`\n",
    "- `.close()`\n",
    "- `.read()`\n",
    "- le fonctionnement de `TextIOWrapper`\n",
    "- `with ___ as ___ :`\n",
    "- `assert ___ , ___`"
   ]
  },
  {
   "cell_type": "markdown",
   "metadata": {},
   "source": [
    "---"
   ]
  },
  {
   "cell_type": "markdown",
   "metadata": {},
   "source": [
    "## Écrire notre première fonction"
   ]
  },
  {
   "cell_type": "markdown",
   "metadata": {},
   "source": [
    "Dans l'exercice précédent, vous avez probablement écrit une boucle qui itère sur tous les caractères de `texte` et ajoute 1 à` nombre_de_e` chaque fois que le programme trouve la lettre *e*. Le comptage d'objets dans un texte ou dans une liste est chose courante.\n",
    "\n",
    "Par conséquent, Python fournit la méthode `count`. Cette fonction prend comme argument l'élément que vous voulez compter. En utilisant cette fonction, la solution à l'exercice ci-dessus peut maintenant être réécrite comme suit:"
   ]
  },
  {
   "cell_type": "code",
   "execution_count": 24,
   "metadata": {},
   "outputs": [
    {
     "name": "stdout",
     "output_type": "stream",
     "text": [
      "182\n"
     ]
    }
   ],
   "source": [
    "nombre_de_e = texte.count(\"e\")\n",
    "print(nombre_de_e)"
   ]
  },
  {
   "cell_type": "markdown",
   "metadata": {},
   "source": [
    "En fait, `count` prend comme argument toute chaîne que vous aimeriez trouver. Nous pourrions aussi bien compter combien de fois la conjonction `et` se produit:"
   ]
  },
  {
   "cell_type": "code",
   "execution_count": 25,
   "metadata": {},
   "outputs": [
    {
     "name": "stdout",
     "output_type": "stream",
     "text": [
      "10\n"
     ]
    }
   ],
   "source": [
    "print(texte.count(\"et\"))"
   ]
  },
  {
   "cell_type": "markdown",
   "metadata": {},
   "source": [
    "La chaîne `et` est trouvée 10 fois dans notre texte. Cela signifie-t-il que le mot *et* apparaît 10 fois dans notre texte? En fait non, *et* n'apparaît que 8 fois ... Pourquoi Python affiche-t-il 10?\n",
    "\n",
    "Si nous voulons compter combien de fois le mot *et* apparaît dans le texte et non la chaîne «et», nous pouvons entourer *et* d'espaces, comme ceci:"
   ]
  },
  {
   "cell_type": "code",
   "execution_count": 26,
   "metadata": {},
   "outputs": [
    {
     "name": "stdout",
     "output_type": "stream",
     "text": [
      "8\n"
     ]
    }
   ],
   "source": [
    "print(texte.count(\" et \"))"
   ]
  },
  {
   "cell_type": "markdown",
   "metadata": {},
   "source": [
    "Bien que cela l'affaire dans ce cas particulier, ce n'est pas très fiable pour compter les mots dans un texte. Que faire s'il y a des instances de *et* suivies d'une virgule ou d'un point ? Il nous faudrait alors interroger le texte plusieurs fois pour chaque contexte possible de *et* : `et`, ` et `, `et.`, `et,`, `et:`, etc. C'est pour cela que nous allons aborder ce problème en utilisant une méthode un peu plus sophistiquée.\n",
    "\n",
    "Rappelez-vous, dans le chapitre précédent, nous avons vu la méthode `split`. Que fait cette méthode? La méthode `split` fonctionne sur une chaîne et divise une chaîne sur les espaces et retourne une liste de plus petites chaînes:"
   ]
  },
  {
   "cell_type": "code",
   "execution_count": 27,
   "metadata": {},
   "outputs": [
    {
     "name": "stdout",
     "output_type": "stream",
     "text": [
      "['Il', \"n'est\", 'pas', 'temps', 'encor', 'de', 'chercher', 'le', 'trépas', ':', 'Ton', 'prince', 'et', 'ton', 'pays', 'ont', 'besoin', 'de', 'ton', 'bras.', 'La', 'flotte', \"qu'on\", 'craignait,', 'dans', 'ce', 'grand', 'fleuve', 'entrée,', 'Croit', 'surprendre', 'la', 'ville', 'et', 'piller', 'la', 'contrée.', 'Les', 'Mores', 'vont', 'descendre,', 'et', 'le', 'flux', 'et', 'la', 'nuit', 'Dans', 'une', 'heure', 'à', 'nos', 'murs', 'les', 'amène', 'sans', 'bruit.', 'La', 'Cour', 'est', 'en', 'désordre,', 'et', 'le', 'peuple', 'en', 'alarmes', ':', 'On', \"n'entend\", 'que', 'des', 'cris,', 'on', 'ne', 'voit', 'que', 'des', 'larmes.', 'Dans', 'ce', 'malheur', 'public', 'mon', 'bonheur', 'a', 'permis', 'Que', \"j'ai\", 'trouvé', 'chez', 'moi', 'cinq', 'cents', 'de', 'mes', 'amis,', 'Qui', 'sachant', 'mon', 'affront,', 'poussés', \"d'un\", 'même', 'zèle,', 'Se', 'venaient', 'tous', 'offrir', 'à', 'venger', 'ma', 'querelle.', 'Tu', 'les', 'as', 'prévenus', ';', 'mais', 'leurs', 'vaillantes', 'mains', 'Se', 'tremperont', 'bien', 'mieux', 'au', 'sang', 'des', 'Africains.', 'Va', 'marcher', 'à', 'leur', 'tete', 'où', \"l'honneur\", 'te', 'demande', ':', \"C'est\", 'toi', 'que', 'veut', 'pour', 'chef', 'leur', 'généreuse', 'bande.', 'De', 'ces', 'vieux', 'ennemis', 'va', 'soutenir', \"l'abord\", ':', 'Là,', 'si', 'tu', 'veux', 'mourir,', 'trouve', 'une', 'belle', 'mort', ';', 'Prends-en', \"l'occasion,\", \"puisqu'elle\", \"t'est\", 'offerte', ';', 'Fais', 'devoir', 'à', 'ton', 'roi', 'son', 'salut', 'à', 'ta', 'perte', ';', 'Mais', 'reviens-en', 'plutôt', 'les', 'palmes', 'sur', 'le', 'front.', 'Ne', 'borne', 'pas', 'ta', 'gloire', 'à', 'venger', 'un', 'affront', ';', 'Porte-la', 'plus', 'avant', ':', 'force', 'par', 'ta', 'vaillance', 'Ce', 'monarque', 'au', 'pardon,', 'et', 'Chimène', 'au', 'silence', ';', 'Si', 'tu', \"l'aimes,\", 'apprends', 'que', 'revenir', 'vainqueur,', \"C'est\", \"l'unique\", 'moyen', 'de', 'regagner', 'son', 'coeur.', 'Mais', 'le', 'temps', 'est', 'trop', 'cher', 'pour', 'le', 'perdre', 'en', 'paroles', ';', 'Je', \"t'arrete\", 'en', 'discours,', 'et', 'je', 'veux', 'que', 'tu', 'voles.', 'Viens,', 'suis-moi,', 'va', 'combattre,', 'et', 'montrer', 'à', 'ton', 'roi', 'Que', 'ce', \"qu'il\", 'perd', 'au', 'comte', 'il', 'le', 'recouvre', 'en', 'toi.']\n"
     ]
    }
   ],
   "source": [
    "print(texte.split())"
   ]
  },
  {
   "cell_type": "markdown",
   "metadata": {},
   "source": [
    "---"
   ]
  },
  {
   "cell_type": "markdown",
   "metadata": {},
   "source": [
    "#### Exercice"
   ]
  },
  {
   "cell_type": "markdown",
   "metadata": {},
   "source": [
    "Tout ce que vous avez appris jusqu'ici devrait vous permettre d'écrire du code qui compte certains éléments apparaissant dans une liste. Écrivez un bloc de code qui définit la variable `nombre_de_resultats` et compte combien de fois le mot *à* (assigné à `a_compter`) apparaît dans la liste de mots appelée `mots`."
   ]
  },
  {
   "cell_type": "code",
   "execution_count": 2,
   "metadata": {},
   "outputs": [],
   "source": [
    "mots = texte.split()\n",
    "a_compter = \"la\"\n",
    "# Votre code ici\n",
    "nombre_de_resultats = mots.count(a_compter)\n",
    "\n",
    "# Ce test ne devrait pas lancer d'erreur si tout va bien\n",
    "assert nombre_de_resultats == 3, \"Il devrait y avoir 6 résultats\""
   ]
  },
  {
   "cell_type": "markdown",
   "metadata": {},
   "source": [
    "---"
   ]
  },
  {
   "cell_type": "markdown",
   "metadata": {},
   "source": [
    "Nous allons voir cet exercice étape par étape. Nous aimerions savoir à quelle fréquence l'article défini *la* apparaît dans notre texte. Dans un premier temps, nous divisons la chaîne `texte` en une liste de mots:"
   ]
  },
  {
   "cell_type": "code",
   "execution_count": 30,
   "metadata": {},
   "outputs": [],
   "source": [
    "mots = texte.split()"
   ]
  },
  {
   "cell_type": "markdown",
   "metadata": {},
   "source": [
    "Puis on va appeler la méthode `count` sur `mots` afin de trouver le nombre de `la` dans `mots`:"
   ]
  },
  {
   "cell_type": "code",
   "execution_count": 31,
   "metadata": {},
   "outputs": [
    {
     "name": "stdout",
     "output_type": "stream",
     "text": [
      "3\n"
     ]
    }
   ],
   "source": [
    "a_compter = \"la\"\n",
    "nombre_de_resultats = mots.count(a_compter)\n",
    "print(nombre_de_resultats)"
   ]
  },
  {
   "cell_type": "markdown",
   "metadata": {},
   "source": [
    "Bon. Très bien. Mais disons que nous nous intéressons aussi à `une`, pour faire des petites statistiques sur l'usage du défini et de l'indéfini. Il faudrait que l'on adapte les lignes précédentes pour chercher le mot `une`. Mais qu'arriverait-il si ensuite nous voulions aussi compter `l'`, `le`, `un`, etc. ? Cela serait insupportable, et honnêtement, on a pas créer les langages de programmation pour que nous ayons à répeter 100 fois la même chose, bien au contraire.\n",
    "\n",
    "Donc ce qu'on aimerait, c'est avoir une fonction qui ferait ça. Et si on regarde bien, notre fonction aurait besoin de deux choses : un texte et un élément à compter. Et elle nous renverrait comme résultat un nombre d'occurrence. Les éléments dont a besoin la fonction sont appelés arguments ou paramètres (`arguments/args` ou `parameters/params`). Le résultat que la fonction nous donne est appelée valeur de retour (`return value`).\n",
    "\n",
    "Dans ce chapitre et le précédent, on a vu pas mal de fonctions. Une fonction fait quelque chose, souvent grâce à des paramètres que vous lui donnez, et généralement elle renvoie un résultat.\n",
    "\n",
    "On a aussi vu des méthodes. Les méthodes se différencient des fonctions dans leur rédaction : du côté des fonctions, on fait `len(chaine)`, du côté des méthodes, on fait `chaine.count(\" et \")`. Nous verrons cela plus en détail beaucoup plus tard. Une méthode est une fonction un peu particulière mais est régie par le même vocabulaire : arguments, paramètres, valeurs de retour.\n",
    "\n",
    "Bien sûr, on peut créer ses propres fonctions. Séparer ta tâche en une multiplicité de tâches est même une obligation en programmation : cela permet de lire les choses plus facilement et d'éviter des répétitions constantes. Les fonctions sont définies avec la déclaration `def` qui est suivie d'un nom de fonction et de paramètres puis du `:` :\n",
    "\n",
    "```python\n",
    "def fonction_avec_parametres(parametre1, parametre2, parametre3):\n",
    "    # Le code de la fonction\n",
    "    \n",
    "def fonction_sans_parametre():\n",
    "    # le code la fonction\n",
    "```\n",
    "\n",
    "Ces fonctions peuvent aussi avoir une valeur de retour. Cela permet d'accéder aux résultats calculés dans la fonction. Cette valeur de retour est renvoyée par la déclaration `return` :\n",
    "\n",
    "```python\n",
    "def carre(x):\n",
    "    return x*x\n",
    "```\n",
    "\n",
    "Retour à notre problème. On veut écrire une fonction appelée `compter_dans_une_chaine`. Elle prend deux paramètres : \n",
    "1. un objet que l'on veut compter\n",
    "2. une chaine dans laquelle on veut trouver cet élément\n",
    "\n",
    "Elle retournera le nombre d'objets en tant qu'entier :\n",
    "\n",
    "```python\n",
    "def compter_dans_une_autre_chaine(aiguille, botte_de_foin):\n",
    "    # En programmation, on utilise souvent aiguille et botte de foin \n",
    "    # (needle et haystack en anglais)\n",
    "    # pour parler de chose à trouver et d'élément à trouver.\n",
    "    # Ici, ce n'est pas forcément très clair cela dit !\n",
    "```\n",
    "\n",
    "Comprenez-vous la syntaxe et les différentes nouvelles déclarations au-dessus ? Maintenant, tout ce qui nous reste à faire est d'écrire le corps de cette fonction :"
   ]
  },
  {
   "cell_type": "code",
   "execution_count": 32,
   "metadata": {},
   "outputs": [],
   "source": [
    "def compter_dans_une_autre_chaine(aiguille, botte_de_foin): \n",
    "    mots_de_foin = botte_de_foin.split()\n",
    "    nombre_daiguilles = mots_de_foin.count(aiguille)               \n",
    "    return nombre_daiguilles                         "
   ]
  },
  {
   "cell_type": "markdown",
   "metadata": {},
   "source": [
    "Lisons la chose encore une fois :\n",
    "\n",
    "1. D'abord on définit une fonction en utilisant def suivi du nom de la fonction et de parenthèses et de `:` (ligne 1);\n",
    "2. La fonction prend deux arguments `aiguille` et `botte_de_foin` (ligne 1);\n",
    "3. Dans cette fonction, on définit une variable `mots_de_foin` qui correspond à la chaîne découpée en mots (ligne 2);\n",
    "4. Dans cette fonction, nous définissons ensuite une variable `nombre_daiguilles` et nous lui assignons le résultat de `count()` sur `mots_de_foin` et `aiguille` (ligne 3);\n",
    "5. On retourne la valeur de la variable `nombre_daiguilles` (ligne 4).\n",
    "\n",
    "Testons notre petite fonction! Nous allons compter combien de fois `\"à\"` apparaître dans notre `texte`:"
   ]
  },
  {
   "cell_type": "code",
   "execution_count": 33,
   "metadata": {},
   "outputs": [
    {
     "name": "stdout",
     "output_type": "stream",
     "text": [
      "3\n"
     ]
    }
   ],
   "source": [
    "print(compter_dans_une_autre_chaine(\"la\", texte))"
   ]
  },
  {
   "cell_type": "markdown",
   "metadata": {},
   "source": [
    "---"
   ]
  },
  {
   "cell_type": "markdown",
   "metadata": {},
   "source": [
    "#### Exercice!"
   ]
  },
  {
   "cell_type": "markdown",
   "metadata": {},
   "source": [
    "Utilisez la fonction que nous avons définie et afficher combien de fois le mot `mon` apparaît."
   ]
  },
  {
   "cell_type": "code",
   "execution_count": 34,
   "metadata": {},
   "outputs": [
    {
     "name": "stdout",
     "output_type": "stream",
     "text": [
      "2\n"
     ]
    }
   ],
   "source": [
    "# votre code ici\n",
    "print(compter_dans_une_autre_chaine(\"mon\", texte))"
   ]
  },
  {
   "cell_type": "markdown",
   "metadata": {},
   "source": [
    "## Le concept de scope et de portée\n",
    "\n",
    "Vous trouverez souvent dans le cadre de documentation le terme de \"portée\" voire le terme de *\"scope\"*. Ce terme couvre le concept de capacité à accéder à des variables à différents endroits du code. Par exemple, on a définit dans le fonction au-dessus la variable `mots_de_foin`. Et elle fonctionne bien puisque la fonction retourne un résultat. Essayons ça :"
   ]
  },
  {
   "cell_type": "code",
   "execution_count": 35,
   "metadata": {},
   "outputs": [
    {
     "name": "stdout",
     "output_type": "stream",
     "text": [
      "4\n"
     ]
    },
    {
     "ename": "NameError",
     "evalue": "name 'mots_de_foin' is not defined",
     "output_type": "error",
     "traceback": [
      "\u001b[0;31m---------------------------------------------------------------------------\u001b[0m",
      "\u001b[0;31mNameError\u001b[0m                                 Traceback (most recent call last)",
      "\u001b[0;32m<ipython-input-35-a94741c19165>\u001b[0m in \u001b[0;36m<module>\u001b[0;34m()\u001b[0m\n\u001b[1;32m      1\u001b[0m \u001b[0mprint\u001b[0m\u001b[0;34m(\u001b[0m\u001b[0mcompter_dans_une_autre_chaine\u001b[0m\u001b[0;34m(\u001b[0m\u001b[0;34m\"ton\"\u001b[0m\u001b[0;34m,\u001b[0m \u001b[0mtexte\u001b[0m\u001b[0;34m)\u001b[0m\u001b[0;34m)\u001b[0m\u001b[0;34m\u001b[0m\u001b[0m\n\u001b[0;32m----> 2\u001b[0;31m \u001b[0mprint\u001b[0m\u001b[0;34m(\u001b[0m\u001b[0mmots_de_foin\u001b[0m\u001b[0;34m)\u001b[0m\u001b[0;34m\u001b[0m\u001b[0m\n\u001b[0m",
      "\u001b[0;31mNameError\u001b[0m: name 'mots_de_foin' is not defined"
     ]
    }
   ],
   "source": [
    "print(compter_dans_une_autre_chaine(\"ton\", texte))\n",
    "print(mots_de_foin)"
   ]
  },
  {
   "cell_type": "markdown",
   "metadata": {},
   "source": [
    "Une erreur familière ! La fonction `mots_de_foin` est dite inexistante. Pourtant, elle a bien existée puisque j'ai eu le résultat `4` au final.\n",
    "\n",
    "En fait, les variables dans les fonctions ont une portée limitée à la fonction. Elle n'existe que dans le cadre de la fonction et ne sont pas accessibles ensuite. C'est pour cela que l'on utilise la déclaration `return` d'ailleurs, sinon, on ne pourrait pas avoir le résultat !"
   ]
  },
  {
   "cell_type": "markdown",
   "metadata": {},
   "source": [
    "---"
   ]
  },
  {
   "cell_type": "markdown",
   "metadata": {},
   "source": [
    "## Un fonction de décompte plus générale"
   ]
  },
  {
   "cell_type": "markdown",
   "metadata": {},
   "source": [
    "Notre fonction `compter_dans_une_autre_chaine()` est un morceau utilie qui va nous permettre de limiter la répétition de notre code et de le rendre trop verbeux. \n",
    "\n",
    "Cela dit, il serait intéressant de savoir combien de fois chaque mot apparaît dans le texte, on pourrait utiliser une boucle, ajouter 1 pour chaque mot, etc. Mais cela serait vraiment long.\n",
    "\n",
    "Il y a deux manières de faire cela rapidement, qui évite un tel problème :"
   ]
  },
  {
   "cell_type": "markdown",
   "metadata": {},
   "source": [
    "### La version longue"
   ]
  },
  {
   "cell_type": "markdown",
   "metadata": {},
   "source": [
    "Dans le chapitre précédent, vous vous êtes familiarisé-e avec la structure `dictionary`. Rappelez-vous qu'un dictionnaire se compose de clés et de valeurs et vous permet de récupérer rapidement une valeur. Nous allons utiliser un dictionnaire pour écrire la fonction `comptage` qui prend comme argument une liste et retourne un` dictionary` avec les mots comme clefs et en valeur le nombre de fois que ces mots sont dans la liste. Nous allons d'abord écrire du code sans la déclaration de fonction. Si cela fonctionne, nous l'ajouterons écrirons une fonction.\n",
    "\n",
    "Nous commençons par définir une variable `decompte` qui est un dictionnaire vide:"
   ]
  },
  {
   "cell_type": "code",
   "execution_count": 4,
   "metadata": {},
   "outputs": [],
   "source": [
    "decompte = {}"
   ]
  },
  {
   "cell_type": "markdown",
   "metadata": {},
   "source": [
    "Ensuite, nous allons boucler tous les mots de notre liste `mots`. Pour chaque mot, nous vérifions si le dictionnaire le contient déjà. Si ce n'est pas le cas, nous appelons la méthode `count` de notre liste `mots` pour découvrir la fréquence d'apparition du mot."
   ]
  },
  {
   "cell_type": "code",
   "execution_count": 5,
   "metadata": {},
   "outputs": [
    {
     "name": "stdout",
     "output_type": "stream",
     "text": [
      "{'De': 1, 'mourir,': 1, 'avant': 1, \"d'un\": 1, 'bras.': 1, 'Ce': 1, 'bonheur': 1, 'sachant': 1, 'marcher': 1, 'de': 4, 'entrée,': 1, 'leurs': 1, 'venger': 2, \"l'occasion,\": 1, 'veux': 2, 'perte': 1, 'monarque': 1, 'le': 7, 'discours,': 1, 'grand': 1, 'vainqueur,': 1, 'Je': 1, 'trouve': 1, 'piller': 1, 'permis': 1, ':': 5, 'toi': 1, 'ces': 1, 'surprendre': 1, 'que': 5, 'querelle.': 1, 'force': 1, 'Qui': 1, 'silence': 1, 'bien': 1, \"n'entend\": 1, 'besoin': 1, 'fleuve': 1, 'soutenir': 1, 'paroles': 1, 'recouvre': 1, 'Les': 1, 'même': 1, 'perd': 1, 'tu': 3, 'affront,': 1, 'front.': 1, 'nuit': 1, 'il': 1, 'Là,': 1, 'où': 1, 'cents': 1, 'comte': 1, \"qu'on\": 1, 'poussés': 1, 'sang': 1, \"l'unique\": 1, 'salut': 1, 'ville': 1, 'mieux': 1, 'Viens,': 1, 'si': 1, 'reviens-en': 1, 'demande': 1, 'te': 1, 'offerte': 1, 'va': 2, 'amène': 1, 'trouvé': 1, 'coeur.': 1, 'cinq': 1, 'un': 1, 'chef': 1, 'toi.': 1, 'ennemis': 1, 'la': 3, 'son': 2, 'mais': 1, 'Ton': 1, 'zèle,': 1, 'bruit.': 1, 'suis-moi,': 1, 'pour': 2, 'gloire': 1, 'murs': 1, 'Dans': 2, 'trop': 1, 'ton': 4, 'par': 1, 'alarmes': 1, 'venaient': 1, 'craignait,': 1, 'vaillantes': 1, 'larmes.': 1, 'Si': 1, 'Ne': 1, 'trépas': 1, 'contrée.': 1, 'chez': 1, 'encor': 1, 'peuple': 1, 'perdre': 1, 'Se': 2, \"qu'il\": 1, 'borne': 1, 'Cour': 1, 'amis,': 1, \"l'aimes,\": 1, 'pas': 2, 'cris,': 1, 'La': 2, 'vaillance': 1, 'plutôt': 1, 'chercher': 1, 'Mais': 2, 'vieux': 1, 'Prends-en': 1, 'des': 3, 'vont': 1, \"t'est\": 1, 'mort': 1, 'Va': 1, 'en': 5, 'et': 8, 'veut': 1, 'voles.': 1, 'moyen': 1, 'descendre,': 1, 'regagner': 1, 'ce': 3, 'Chimène': 1, ';': 7, \"n'est\": 1, 'sans': 1, 'plus': 1, \"t'arrete\": 1, 'désordre,': 1, \"l'honneur\": 1, 'Fais': 1, 'nos': 1, 'on': 1, 'dans': 1, 'palmes': 1, 'ma': 1, 'une': 2, 'moi': 1, 'roi': 2, 'offrir': 1, 'ont': 1, 'public': 1, 'heure': 1, 'pays': 1, 'mains': 1, 'voit': 1, 'Africains.': 1, 'est': 2, 'cher': 1, 'bande.': 1, \"puisqu'elle\": 1, 'tete': 1, 'malheur': 1, 'je': 1, \"l'abord\": 1, 'flux': 1, \"C'est\": 2, 'mon': 2, 'tremperont': 1, 'tous': 1, 'montrer': 1, 'combattre,': 1, 'a': 1, 'Croit': 1, 'généreuse': 1, 'mes': 1, 'leur': 2, 'au': 4, 'apprends': 1, 'Il': 1, 'prévenus': 1, 'revenir': 1, 'temps': 2, 'Porte-la': 1, 'ne': 1, 'On': 1, 'les': 3, 'Tu': 1, 'affront': 1, 'prince': 1, 'Que': 2, 'devoir': 1, 'belle': 1, 'flotte': 1, 'pardon,': 1, 'sur': 1, 'ta': 3, 'Mores': 1, 'à': 7, 'as': 1, \"j'ai\": 1}\n",
      "2\n"
     ]
    }
   ],
   "source": [
    "for mot in mots:\n",
    "# A chaque élément dans la variable `mots`, j'assigne la valeur dans une variable `mot`\n",
    "    if mot not in decompte:\n",
    "        # Si le mot n'est pas dans les clefs du dictionnaire decompte\n",
    "        decompte[mot] = mots.count(mot)\n",
    "        # J'assigne à la clef mot le nombre de fois que la valeur de `mot`\n",
    "        #    apparaît dans `mots`\n",
    "print(decompte)\n",
    "print(decompte['mon'])"
   ]
  },
  {
   "cell_type": "markdown",
   "metadata": {},
   "source": [
    "N'hésitez pas à relire le chapitre 1 si nécessaire .\n",
    "\n",
    "Remarquez que l'on a rien fait si le mot était déjà dans notre dictionnaire. On n'a pas besoin puisque l'on a déjà fait le décompte !\n",
    "\n",
    "Maintenant que notre code marche, on peut le transformer en fonction ! On définit la fonction `comptage` comme vu plus haut. On a besoin cette fois d'une seul argument :"
   ]
  },
  {
   "cell_type": "code",
   "execution_count": 58,
   "metadata": {},
   "outputs": [],
   "source": [
    "def comptage(mots):  \n",
    "    decompte = {}\n",
    "    for mot in mots:\n",
    "        if mot not in decompte:\n",
    "            decompte[mot] = mots.count(mot)\n",
    "    return decompte"
   ]
  },
  {
   "cell_type": "markdown",
   "metadata": {},
   "source": [
    "Normalement, la répétition qui suit va être ennuyante, mais au cas où :\n",
    "\n",
    "1. On définit une fonction `comptage()` via `def` en lui donnant un paramètre (`mots`)\n",
    "2. Je crée un dictionnaire vide `decompte` qui me servira de réceptacle\n",
    "3. Pour chaque élément dans la valeur `mots`, j'assigne sa valeur dans une variable `mot`\n",
    "    1. Si le mot n'est pas dans les clefs du dictionnaire decompte, alors\n",
    "        1. Je définis la cle du dictionnaire decompte représentée par `mot`\n",
    "        2. J'y assigne comme valeur le nombre de fois qu'il apparaît dans la liste `mots`\n",
    "4. Une fois la boucle finie, je renvoie le résultat de la boucle."
   ]
  },
  {
   "cell_type": "code",
   "execution_count": 7,
   "metadata": {},
   "outputs": [
    {
     "name": "stdout",
     "output_type": "stream",
     "text": [
      "{'De': 1, 'mourir,': 1, 'avant': 1, \"d'un\": 1, 'bras.': 1, 'Ce': 1, 'bonheur': 1, 'sachant': 1, 'marcher': 1, 'de': 4, 'entrée,': 1, 'leurs': 1, 'venger': 2, \"l'occasion,\": 1, 'veux': 2, 'perte': 1, 'monarque': 1, 'le': 7, 'discours,': 1, 'grand': 1, 'vainqueur,': 1, 'Je': 1, 'trouve': 1, 'piller': 1, 'permis': 1, ':': 5, 'toi': 1, 'ces': 1, 'surprendre': 1, 'que': 5, 'querelle.': 1, 'force': 1, 'Qui': 1, 'silence': 1, 'bien': 1, \"n'entend\": 1, 'besoin': 1, 'fleuve': 1, 'soutenir': 1, 'paroles': 1, 'recouvre': 1, 'Les': 1, 'même': 1, 'perd': 1, 'tu': 3, 'affront,': 1, 'front.': 1, 'nuit': 1, 'il': 1, 'Là,': 1, 'où': 1, 'cents': 1, 'comte': 1, \"qu'on\": 1, 'poussés': 1, 'sang': 1, \"l'unique\": 1, 'salut': 1, 'ville': 1, 'mieux': 1, 'Viens,': 1, 'si': 1, 'reviens-en': 1, 'demande': 1, 'te': 1, 'offerte': 1, 'va': 2, 'amène': 1, 'trouvé': 1, 'coeur.': 1, 'cinq': 1, 'un': 1, 'chef': 1, 'toi.': 1, 'ennemis': 1, 'la': 3, 'son': 2, 'mais': 1, 'Ton': 1, 'zèle,': 1, 'bruit.': 1, 'suis-moi,': 1, 'pour': 2, 'gloire': 1, 'murs': 1, 'Dans': 2, 'trop': 1, 'ton': 4, 'par': 1, 'alarmes': 1, 'venaient': 1, 'craignait,': 1, 'vaillantes': 1, 'larmes.': 1, 'Si': 1, 'Ne': 1, 'trépas': 1, 'contrée.': 1, 'chez': 1, 'encor': 1, 'peuple': 1, 'perdre': 1, 'Se': 2, \"qu'il\": 1, 'borne': 1, 'Cour': 1, 'amis,': 1, \"l'aimes,\": 1, 'pas': 2, 'cris,': 1, 'La': 2, 'vaillance': 1, 'plutôt': 1, 'chercher': 1, 'Mais': 2, 'vieux': 1, 'Prends-en': 1, 'des': 3, 'vont': 1, \"t'est\": 1, 'mort': 1, 'Va': 1, 'en': 5, 'et': 8, 'veut': 1, 'voles.': 1, 'moyen': 1, 'descendre,': 1, 'regagner': 1, 'ce': 3, 'Chimène': 1, ';': 7, \"n'est\": 1, 'sans': 1, 'plus': 1, \"t'arrete\": 1, 'désordre,': 1, \"l'honneur\": 1, 'Fais': 1, 'nos': 1, 'on': 1, 'dans': 1, 'palmes': 1, 'ma': 1, 'une': 2, 'moi': 1, 'roi': 2, 'offrir': 1, 'ont': 1, 'public': 1, 'heure': 1, 'pays': 1, 'mains': 1, 'voit': 1, 'Africains.': 1, 'est': 2, 'cher': 1, 'bande.': 1, \"puisqu'elle\": 1, 'tete': 1, 'malheur': 1, 'je': 1, \"l'abord\": 1, 'flux': 1, \"C'est\": 2, 'mon': 2, 'tremperont': 1, 'tous': 1, 'montrer': 1, 'combattre,': 1, 'a': 1, 'Croit': 1, 'généreuse': 1, 'mes': 1, 'leur': 2, 'au': 4, 'apprends': 1, 'Il': 1, 'prévenus': 1, 'revenir': 1, 'temps': 2, 'Porte-la': 1, 'ne': 1, 'On': 1, 'les': 3, 'Tu': 1, 'affront': 1, 'prince': 1, 'Que': 2, 'devoir': 1, 'belle': 1, 'flotte': 1, 'pardon,': 1, 'sur': 1, 'ta': 3, 'Mores': 1, 'à': 7, 'as': 1, \"j'ai\": 1}\n",
      "\"mon\" apparaît 2 fois.\n"
     ]
    }
   ],
   "source": [
    "print(comptage(mots))\n",
    "vocabulaire_cid = comptage(mots)\n",
    "print('\"mon\" apparaît ' + str(vocabulaire_cid['mon']) + ' fois.')"
   ]
  },
  {
   "cell_type": "markdown",
   "metadata": {},
   "source": [
    "---"
   ]
  },
  {
   "cell_type": "markdown",
   "metadata": {},
   "source": [
    "#### Exercice"
   ]
  },
  {
   "cell_type": "markdown",
   "metadata": {},
   "source": [
    "Essayons de mettre en pratique ce que l'on a vu jusque là. On va lire le fichier `data/misanthrope.acte3.scene4.txt`, le convertir en liste de mot et assigner à la variable `compte_de_mais` le nombre de fois que mais apparaît dans le texte :"
   ]
  },
  {
   "cell_type": "code",
   "execution_count": 9,
   "metadata": {},
   "outputs": [
    {
     "name": "stdout",
     "output_type": "stream",
     "text": [
      "4\n",
      "4\n"
     ]
    }
   ],
   "source": [
    "# Votre code ici\n",
    "compte_de_mais = 0\n",
    "c\n",
    "    mots_a_compter = comptage(mots)\n",
    "    compte_de_mais = mots_a_compter[\"mais\"]\n",
    "    print(str(compte_de_mais))\n",
    "    \n",
    "with open(\"data/misanthrope.acte3.scene4.txt\") as fichier_misanthrope:\n",
    "    texte = fichier_misanthrope.read()\n",
    "mots = texte.split()\n",
    "compte_de_mais = mots.count(\"mais\")\n",
    "print(compte_de_mais)\n",
    "\n",
    "# Le test suivant ne devrait pas créer d'erreurs\n",
    "assert compte_de_mais == 4, \"Il y a 4 'mais'\""
   ]
  },
  {
   "cell_type": "markdown",
   "metadata": {},
   "source": [
    "*Le nombre de lignes écrites par vous-mêmes ne devrait pas dépasser les 6 ou 7 lignes*"
   ]
  },
  {
   "cell_type": "markdown",
   "metadata": {},
   "source": [
    "---"
   ]
  },
  {
   "cell_type": "markdown",
   "metadata": {},
   "source": [
    "### Une alternative à la fonction de comptage : éviter les doublons avec `set`"
   ]
  },
  {
   "cell_type": "markdown",
   "metadata": {},
   "source": [
    "Le problème de la fonction d'avant, c'est qu'elle passe sur certaines valeurs plusieurs fois et que l'on est obligé de faire un if pour que cela fonction correctement. On peut parler de code non-optimisé: une tâche est faite un bon nombre de fois sans avoir d'impact et prend du temps que l'on pourrait gagner.\n",
    "\n",
    "Aussi, il serait bon de savoir quels sont les valeurs uniques de la liste de mots. Pour cela, on utilise le type `set()` :"
   ]
  },
  {
   "cell_type": "code",
   "execution_count": 10,
   "metadata": {},
   "outputs": [
    {
     "name": "stdout",
     "output_type": "stream",
     "text": [
      "{'b', 'a', 'c'}\n",
      "{1, 2, 3, 4}\n"
     ]
    }
   ],
   "source": [
    "x = ['a', 'a', 'b', 'b', 'c', 'c', 'c']\n",
    "unique_x = set(x)\n",
    "y = [1, 1, 4, 3, 1, 2, 2, 4]\n",
    "print(unique_x)\n",
    "print(set(y))"
   ]
  },
  {
   "cell_type": "markdown",
   "metadata": {},
   "source": [
    "Les sets sont des sortes de liste où les valeurs sont forcément unique. En transformant une liste en set, on supprime les doublons. Attention cependant, un set n'est pas ordonné et ne peut donc pas être accédé par des index :"
   ]
  },
  {
   "cell_type": "code",
   "execution_count": 11,
   "metadata": {},
   "outputs": [
    {
     "ename": "TypeError",
     "evalue": "'set' object does not support indexing",
     "output_type": "error",
     "traceback": [
      "\u001b[0;31m---------------------------------------------------------------------------\u001b[0m",
      "\u001b[0;31mTypeError\u001b[0m                                 Traceback (most recent call last)",
      "\u001b[0;32m<ipython-input-11-55be18bd28ed>\u001b[0m in \u001b[0;36m<module>\u001b[0;34m()\u001b[0m\n\u001b[0;32m----> 1\u001b[0;31m \u001b[0munique_x\u001b[0m\u001b[0;34m[\u001b[0m\u001b[0;36m0\u001b[0m\u001b[0;34m]\u001b[0m\u001b[0;34m\u001b[0m\u001b[0m\n\u001b[0m",
      "\u001b[0;31mTypeError\u001b[0m: 'set' object does not support indexing"
     ]
    }
   ],
   "source": [
    "unique_x[0]"
   ]
  },
  {
   "cell_type": "markdown",
   "metadata": {},
   "source": [
    "Cependant, on peut lui ajouter des valeurs. Au lieu d'utiliser `append()` on utilise `add()` :"
   ]
  },
  {
   "cell_type": "code",
   "execution_count": 12,
   "metadata": {},
   "outputs": [
    {
     "data": {
      "text/plain": [
       "{'a', 'b', 'c', 'test'}"
      ]
     },
     "execution_count": 12,
     "metadata": {},
     "output_type": "execute_result"
    }
   ],
   "source": [
    "unique_x.add(\"test\")\n",
    "unique_x"
   ]
  },
  {
   "cell_type": "markdown",
   "metadata": {},
   "source": [
    "A partir de cela, on peut faire une fonction plus simple:"
   ]
  },
  {
   "cell_type": "code",
   "execution_count": 13,
   "metadata": {},
   "outputs": [],
   "source": [
    "def comptage2(mots):\n",
    "    sans_doublon = set(mots)\n",
    "    compteur = {}\n",
    "    for mot in sans_doublon:\n",
    "        compteur[mot] = mots.count(mot)\n",
    "        print(mot)\n",
    "    return compteur"
   ]
  },
  {
   "cell_type": "markdown",
   "metadata": {},
   "source": [
    "On vérifie que cela marche :"
   ]
  },
  {
   "cell_type": "code",
   "execution_count": 14,
   "metadata": {},
   "outputs": [
    {
     "name": "stdout",
     "output_type": "stream",
     "text": [
      "lieu,\n",
      "Pour\n",
      "veux\n",
      "d'un\n",
      "Elle\n",
      "avant\n",
      "vôtres\n",
      "point.\n",
      "éclats\n",
      "l'amour\n",
      "de\n",
      "êtes\n",
      "faisois\n",
      "tout\n",
      "conclusion\n",
      "dit\n",
      "met\n",
      "c'étoit\n",
      "bien,\n",
      "publie,\n",
      "grand\n",
      "pitié\n",
      "mettre\n",
      "dément\n",
      "jetez\n",
      "l'innocence,\n",
      "jour,\n",
      "?\n",
      "bat\n",
      "grave\n",
      "exemplaire\n",
      ":\n",
      "poids\n",
      "moins\n",
      "ces\n",
      "blâmé\n",
      "ambigu\n",
      "hauteur\n",
      "doit\n",
      "profitable,\n",
      "que\n",
      "ses\n",
      "touche\n",
      "fréquentes\n",
      "zèle\n",
      "dévots\n",
      "intérêts.\n",
      "bien\n",
      "du\n",
      "sage\n",
      "faveur,\n",
      "soin.\n",
      "extérieur,\n",
      "elle\n",
      "avertissant\n",
      "l'on\n",
      "doux,\n",
      "reste\n",
      "nudités\n",
      "crois\n",
      "parlant\n",
      "m'attache\n",
      "qui\n",
      "Là,\n",
      "modèle\n",
      "vos\n",
      "innocentes\n",
      "qui,\n",
      "pris\n",
      "cette\n",
      "tour,\n",
      "mieux\n",
      "prétends\n",
      "si\n",
      "réalités.\n",
      "qu'encor\n",
      "cris\n",
      "un\n",
      "le\n",
      "j'en\n",
      "visite,\n",
      "la\n",
      "l'autre\n",
      "mais\n",
      "soins\n",
      "avoir\n",
      "pour\n",
      "autres\n",
      "bruits\n",
      "exacte\n",
      "Dans\n",
      "feriez\n",
      "âme\n",
      "m'oblige,\n",
      "peu\n",
      "mot\n",
      "combattirent\n",
      "Madame,\n",
      "par\n",
      "besoin,\n",
      "quoi\n",
      "mine\n",
      "ombres\n",
      "reconnoître,\n",
      "faire\n",
      "loin\n",
      "dernier\n",
      "prier\n",
      "s'en\n",
      "furent\n",
      "discours\n",
      "vie\n",
      "commis\n",
      "vous\n",
      "l'entretien.\n",
      "cités\n",
      "éternels\n",
      "sont\n",
      "cet\n",
      "mérite,\n",
      "actions\n",
      "beaucoup\n",
      "regarder\n",
      "bon,\n",
      "pas\n",
      "choses\n",
      "peine\n",
      "ceux\n",
      "où\n",
      "mines\n",
      "franchement,\n",
      "médisance\n",
      "mouvements\n",
      "amie\n",
      "des\n",
      "paroître\n",
      "vois\n",
      "vous,\n",
      "blanc\n",
      "cela,\n",
      "qu'aux\n",
      "fort\n",
      "en\n",
      "mien\n",
      "d'indécence\n",
      "et\n",
      "veut\n",
      "qu'il\n",
      "songer\n",
      "ce\n",
      "temps,\n",
      "avis\n",
      ";\n",
      "trouvai\n",
      "bon\n",
      "plus\n",
      "pruderie\n",
      "corrections\n",
      "mal\n",
      "secrets\n",
      "on\n",
      "m'apprenant\n",
      "aigres\n",
      "se\n",
      "grâces\n",
      "dans\n",
      "vaut-il\n",
      "tableaux\n",
      "d'une\n",
      "moi\n",
      "vrais\n",
      "rendre\n",
      "puis\n",
      "très-rare\n",
      "d'estime\n",
      "affectation\n",
      "peut\n",
      "pures,\n",
      "l'instant,\n",
      "parler\n",
      "dehors\n",
      "tomber\n",
      "est\n",
      "assurai\n",
      "soi-même\n",
      "gens,\n",
      "remettre,\n",
      "fait\n",
      "sentiments\n",
      "belle.\n",
      "prendre\n",
      "honneur\n",
      "yeux\n",
      "je\n",
      "d'honneur,\n",
      "chacun\n",
      "couvrir\n",
      "comme\n",
      "exemple\n",
      "aux\n",
      "mon\n",
      "fut\n",
      "aussi\n",
      "tous\n",
      "montrer\n",
      "sentiment.\n",
      "long\n",
      "a\n",
      "moi,\n",
      "autres,\n",
      "l'attribuer\n",
      "faut\n",
      "qu'on\n",
      "point\n",
      "au\n",
      "madame,\n",
      "vous.\n",
      "lieux\n",
      "défense,\n",
      "leur\n",
      "censures\n",
      "condamner\n",
      "paye\n",
      "quelques\n",
      "contre\n",
      "étale\n",
      "ne\n",
      "suivre,\n",
      "trop\n",
      "firent\n",
      "votre\n",
      "les\n",
      "ciel\n",
      "raisonnable,\n",
      "En\n",
      "modeste,\n",
      "sagesse\n",
      "commun\n",
      "gens\n",
      "sur\n",
      "leçons,\n",
      "prendre,\n",
      "vit\n",
      "disoient-ils,\n",
      "tel\n",
      "soin\n",
      "tous,\n",
      "à\n",
      "j'ai\n",
      "16\n"
     ]
    }
   ],
   "source": [
    "decompte = comptage2(mots)\n",
    "print(decompte[\"et\"])"
   ]
  },
  {
   "cell_type": "markdown",
   "metadata": {},
   "source": [
    "---"
   ]
  },
  {
   "cell_type": "markdown",
   "metadata": {},
   "source": [
    "### Documenter une fonction : méthode Sphinx"
   ]
  },
  {
   "cell_type": "markdown",
   "metadata": {},
   "source": [
    "Tout comme il est bien de documenter avec des # pourquoi vous faites certaines choses dans votre code, il est encore mieux de commenter ses fonctions. On distingue plusieurs méthodes de documentation : la documentation [reStructuredText (rst)](https://docs.python.org/devguide/documenting.html) et la documentation Google sont les plus communes. Voyons un exemple de la RST !"
   ]
  },
  {
   "cell_type": "code",
   "execution_count": 41,
   "metadata": {},
   "outputs": [],
   "source": [
    "def comptage2(mots):\n",
    "    \"\"\" Compte et stocke le décompte de chaque mot dans une liste de mots\n",
    "    \n",
    "    :param mots: Liste de mots\n",
    "    :type mots: list\n",
    "    :returns: Dictionnaire où les clefs sont les mots et les valeurs le nombre d'occurrences\n",
    "    :rtype: dict\n",
    "    \"\"\"\n",
    "    sans_doublon = set(mots)\n",
    "    compteur = {}\n",
    "    for mot in sans_doublon:\n",
    "        compteur[mot] = mots.count(mot)\n",
    "    return compteur"
   ]
  },
  {
   "cell_type": "markdown",
   "metadata": {},
   "source": [
    "Qu'avons-nous fait ?\n",
    "\n",
    "1. Nous avons utilisé le commentaire en triple guillement `\"\"\"` qui permet de faire des commentaires en multilignes.\n",
    "2. La première ligne est consacrée à la description de ce à quoi sert la fonction\n",
    "3. On décrit un paramètre via `:param mots:` : la syntaxe est fixe `:param ` suivi du nom de mon paramètre et de `:` puis on décrite ce paramètre, ce qui est attendu\n",
    "4. Quand cela fait sens, on peut compléter `:param mots:` par `:type mots:` qui donne le type de données attendues (`list`, `str`, `dict`, `int`, `TextIOWrapper`, etc.)\n",
    "5. Une fois tous les paramètres décrits, on décrit ce qui est renvoyé après `:returns:`\n",
    "6. Quand cela fait sens, on peut compléter `:returns:` par `:rtype:` (pour *returns type*) comme pour les paramètres."
   ]
  },
  {
   "cell_type": "markdown",
   "metadata": {},
   "source": [
    "### Exercice\n",
    "\n",
    "Ecrire une fonction `statistiques_mots` qui prend un chemin de fichier et qui renvoie un dictionnaire de compte d'occurrences. Documentez votre fonction."
   ]
  },
  {
   "cell_type": "code",
   "execution_count": 17,
   "metadata": {},
   "outputs": [],
   "source": [
    "# Votre code ici\n",
    "def statistiques_mots(chemin):\n",
    "    \"\"\" Créer un dictionnaire des occurrences de mots pour le fichier dont le chemin est donné\n",
    "    \n",
    "    :param chemin: chemin du fichier au format texte (exemple : /home/utilisateur/fichier.txt)\n",
    "    :type chemin: str\n",
    "    :returns: dictionnaire de fréquence (mots en clef, fréquence en valeur)\n",
    "    :rtype: dict\n",
    "    \"\"\"\n",
    "    with open (chemin) as fichier:\n",
    "        texte = fichier.read()\n",
    "    mots = texte.split()\n",
    "    return comptage2(mots)\n",
    "\n",
    "# Cette portion vérifie que votre code fonction\n",
    "# En finissant la ligne par un \"\\\", on échappe le saut de ligne\n",
    "assert statistiques_mots(\"data/liaisons.118.txt\")[\"et\"] == 15, \\\n",
    "    \"Il y a 52 occurrences de et dans le texte du fichier W\""
   ]
  },
  {
   "cell_type": "markdown",
   "metadata": {},
   "source": [
    "----\n",
    "\n",
    "#### Ce que l'on a appris\n",
    "\n",
    "Pour finir cette section, voici un récapitulatif des concepts appris. Lisez la liste et posez des questions si certaines choses ne sont pas claires.\n",
    "\n",
    "- `def`\n",
    "- paramètes et argument\n",
    "- portée des variables (*scope*)\n",
    "- documentation reStructuredText\n",
    "- `set()`"
   ]
  },
  {
   "cell_type": "markdown",
   "metadata": {},
   "source": [
    "---"
   ]
  },
  {
   "cell_type": "markdown",
   "metadata": {},
   "source": [
    "## Nettoyer des données textuelles"
   ]
  },
  {
   "cell_type": "markdown",
   "metadata": {},
   "source": [
    "Dans la section précédente, nous avons écrit du code pour calculer une distribution de fréquence des mots dans un texte stocké sur notre ordinateur. La méthode `split()` est une manière rapide pour diviser une chaîne en une liste de mots. Mais si nous regardons de plus près nos distributions de fréquence, nous remarquons beaucoup de bruit. Par exemple, le pronom *on* apparaît 1 fois, mais nous trouvons aussi `qu'on` survenant une fois. Et `et` et `Et` sont différents. Bien sûr, nous aimerions ajouter ces chiffres ensemble.\n",
    "\n",
    "Il y a deux stratégies à suivre pour corriger nos distributions de fréquences. Le premier est de trouver une meilleure procédure pour diviser notre texte en mots. La seconde consiste à nettoyer notre texte et à passer ce résultat propre à la méthode `split`. Pour l'instant nous suivrons nous occuperons du deuxième.\n",
    "\n",
    "Certains mots de notre texte sont en majuscules. Pour minuter ces mots, Python fournit la méthode `lower`. Il fonctionne sur des chaînes:"
   ]
  },
  {
   "cell_type": "code",
   "execution_count": 18,
   "metadata": {},
   "outputs": [
    {
     "name": "stdout",
     "output_type": "stream",
     "text": [
      "e\n"
     ]
    }
   ],
   "source": [
    "x = 'E'\n",
    "x_lower = x.lower()\n",
    "print(x_lower)"
   ]
  },
  {
   "cell_type": "markdown",
   "metadata": {},
   "source": [
    "We can apply this function to our complete text to obtain a completely lowercased text, using:"
   ]
  },
  {
   "cell_type": "code",
   "execution_count": 19,
   "metadata": {},
   "outputs": [
    {
     "ename": "NameError",
     "evalue": "name 'text' is not defined",
     "output_type": "error",
     "traceback": [
      "\u001b[0;31m---------------------------------------------------------------------------\u001b[0m",
      "\u001b[0;31mNameError\u001b[0m                                 Traceback (most recent call last)",
      "\u001b[0;32m<ipython-input-19-423a39b33774>\u001b[0m in \u001b[0;36m<module>\u001b[0;34m()\u001b[0m\n\u001b[0;32m----> 1\u001b[0;31m \u001b[0mtext_lower\u001b[0m \u001b[0;34m=\u001b[0m \u001b[0mtext\u001b[0m\u001b[0;34m.\u001b[0m\u001b[0mlower\u001b[0m\u001b[0;34m(\u001b[0m\u001b[0;34m)\u001b[0m\u001b[0;34m\u001b[0m\u001b[0m\n\u001b[0m\u001b[1;32m      2\u001b[0m \u001b[0mprint\u001b[0m\u001b[0;34m(\u001b[0m\u001b[0mtext_lower\u001b[0m\u001b[0;34m)\u001b[0m\u001b[0;34m\u001b[0m\u001b[0m\n",
      "\u001b[0;31mNameError\u001b[0m: name 'text' is not defined"
     ]
    }
   ],
   "source": [
    "text_lower = text.lower()\n",
    "print(text_lower)"
   ]
  },
  {
   "cell_type": "markdown",
   "metadata": {},
   "source": [
    "Cela résout notre problème de la compréhension des mots en majuscules, nous laissant avec le problème de la ponctuation. La méthode `replace` est justement la fonction que nous recherchons. Il prend deux arguments: (1) la chaîne que nous aimerions remplacer et (2) la chaîne qui servira de remplacmeent:"
   ]
  },
  {
   "cell_type": "code",
   "execution_count": 20,
   "metadata": {},
   "outputs": [
    {
     "name": "stdout",
     "output_type": "stream",
     "text": [
      "Mais Arrêtez De Me Couper Dans Mon Élocution S'il Vous Plait\n"
     ]
    }
   ],
   "source": [
    "phrase = 'Mais. Arrêtez. De. Me. Couper. Dans. Mon. Élocution. S\\'il. Vous. Plait'\n",
    "sans_points = phrase.replace(\".\", \"\")\n",
    "print(sans_points)"
   ]
  },
  {
   "cell_type": "markdown",
   "metadata": {},
   "source": [
    "Remarquez que pour supprimer les `.`, on a fourni une chaîne vide `\"\"`. On aurait pu les remplacer par le mot `point`, mais cela ne nous aurait pas vraiment avancés."
   ]
  },
  {
   "cell_type": "markdown",
   "metadata": {},
   "source": [
    "---"
   ]
  },
  {
   "cell_type": "markdown",
   "metadata": {},
   "source": [
    "#### Exercice"
   ]
  },
  {
   "cell_type": "markdown",
   "metadata": {},
   "source": [
    "Nettoyez cette chaîne en supprimant les virgules, les points et les majuscules."
   ]
  },
  {
   "cell_type": "code",
   "execution_count": 25,
   "metadata": {},
   "outputs": [
    {
     "name": "stdout",
     "output_type": "stream",
     "text": [
      "les virgules si on y pense vraiment je vous assure sont superflues.\n",
      "True\n"
     ]
    }
   ],
   "source": [
    "texte = \"Les virgules, si on y pense, vraiment, je vous assure, sont superflues.\"\n",
    "# Votre code ici\n",
    "sans_rien = texte.lower().replace(\",\", \"\")\n",
    "print(sans_rien)\n",
    "\n",
    "# Et on vérifie avec le test.\n",
    "# Notez que si le copier coller est bien, il est mal de copier la chaîne en dessous au dessus.\n",
    "# Le test marcherait mais cela serait un peu malhonnête.\n",
    "print(sans_rien == \"les virgules si on y pense vraiment je vous assure sont superflues.\")"
   ]
  },
  {
   "cell_type": "markdown",
   "metadata": {},
   "source": [
    "---"
   ]
  },
  {
   "cell_type": "markdown",
   "metadata": {},
   "source": [
    "Et si on voulait supprimer toute la ponctuation d'un texte, pas seulement les points et les virgules ? On va écrire une fonction `supprimer_ponctuation` qui va faire ce que son nom indique. Il y a plein de manières d'écrire cette fonction, on va vous en montrer deux. La première stratégie est de répeter `replace` sur la même chaîne en changeant à chaque fois la l'élément de ponctuation par une chaîne vide."
   ]
  },
  {
   "cell_type": "code",
   "execution_count": 26,
   "metadata": {},
   "outputs": [
    {
     "name": "stdout",
     "output_type": "stream",
     "text": [
      "Les virgules si lon y pense vraiment je vous assure sont superflues\n"
     ]
    }
   ],
   "source": [
    "def supprimer_ponctuation(texte):\n",
    "    \"\"\" Supprimer les caractères de ponctuation d'un texte\n",
    "    \n",
    "    :param texte: Texte à nettoyer\n",
    "    :type texte: str\n",
    "    :returns: Texte sans ponctuation\n",
    "    :rtype: str\n",
    "    \"\"\"\n",
    "    ponctuation = '!@#$%^&*()_-+={}[]:;\"\\'|<>,.?/~`'\n",
    "    for marqueur in ponctuation:\n",
    "        texte = texte.replace(marqueur, \"\")\n",
    "    return texte\n",
    "\n",
    "\n",
    "texte_court = \"Les virgules, si l'on y pense, vraiment, je vous assure, sont superflues.\"\n",
    "print(supprimer_ponctuation(texte_court))"
   ]
  },
  {
   "cell_type": "markdown",
   "metadata": {},
   "source": [
    "L'autre stratégie qui permet d'arriver au même résultat n'utilise pas la fonction `replace`. Cela consiste à itérer sur la chaîne de caractère et de vérifier si ils sont acceptables:"
   ]
  },
  {
   "cell_type": "code",
   "execution_count": 28,
   "metadata": {},
   "outputs": [
    {
     "name": "stdout",
     "output_type": "stream",
     "text": [
      "Les virgules si lon y pense vraiment je vous assure sont superflues\n"
     ]
    }
   ],
   "source": [
    "def supprimer_ponctuation2(texte):\n",
    "    \"\"\" Supprimer les caractères de ponctuation d'un texte\n",
    "    \n",
    "    :param texte: Texte à nettoyer\n",
    "    :type texte: str\n",
    "    :returns: Texte sans ponctuation\n",
    "    :rtype: str\n",
    "    \"\"\"\n",
    "    ponctuation = '!@#$%^&*()_-+={}[]:;\"\\'|<>,.?/~`'\n",
    "    nouveau_texte = \"\"\n",
    "    for caractere in texte:\n",
    "        if caractere not in ponctuation:\n",
    "            nouveau_texte += caractere\n",
    "    return nouveau_texte\n",
    "\n",
    "\n",
    "texte_court = \"Les virgules, si l'on y pense, vraiment, je vous assure, sont superflues.\"\n",
    "print(supprimer_ponctuation2(texte_court))"
   ]
  },
  {
   "cell_type": "markdown",
   "metadata": {},
   "source": [
    "---"
   ]
  },
  {
   "cell_type": "markdown",
   "metadata": {},
   "source": [
    "#### Exercice"
   ]
  },
  {
   "cell_type": "markdown",
   "metadata": {},
   "source": [
    "Il est temps de faire votre propre fonction. A partir du test et de la documentation, compléter le code ci-dessous."
   ]
  },
  {
   "cell_type": "code",
   "execution_count": 35,
   "metadata": {},
   "outputs": [
    {
     "name": "stdout",
     "output_type": "stream",
     "text": [
      "les virgules il paraît sont superflues les points  au contraire  ne le sont pas\n"
     ]
    }
   ],
   "source": [
    "def nettoyer_texte(texte, ponctuation):\n",
    "    \"\"\" Cette fonction transforme les majuscules en minuscules et supprime la ponctuation\n",
    "    \n",
    "    :param texte: Texte à nettoyer\n",
    "    :type texte: str\n",
    "    :param ponctuation: Charactères à supprimer\n",
    "    :type ponctuation: str\n",
    "    :returns: Texte sans les charactères et en minuscule\n",
    "    :rtype: str\n",
    "    \"\"\"\n",
    "    # Votre code ici\n",
    "    texte_en_minuscules = texte.lower()\n",
    "    for marqueur in ponctuation:\n",
    "        texte_en_minuscules = texte_en_minuscules.replace(marqueur, \"\")\n",
    "    print(texte_en_minuscules)\n",
    "    return texte_en_minuscules\n",
    "    \n",
    "# Le test qui vérifie tout\n",
    "texte_court = \"Les virgules, il paraît, sont superflues. Les points - au contraire - ne le sont pas!\"\n",
    "assert nettoyer_texte(texte_court, \"!,-.\") == \\\n",
    "    \"les virgules il paraît sont superflues les points  au contraire  ne le sont pas\", \\\n",
    "    \"Des caractères n'ont pas été supprimés ou transformés\""
   ]
  },
  {
   "cell_type": "markdown",
   "metadata": {},
   "source": [
    "Et maintenant, tout ensemble ! On va :\n",
    "- ouvrir le fichier `data/misanthrope.acte3.scene4.txt` et récupérer son texte,\n",
    "- on supprimera la ponctuation\n",
    "- on remplacera les apostrophes et les traits d'unions par des espaces\n",
    "- on fera des statistiques d'occurrences"
   ]
  },
  {
   "cell_type": "code",
   "execution_count": 74,
   "metadata": {},
   "outputs": [],
   "source": [
    "def separateur_de_texte(texte):\n",
    "    \"\"\" Cette fonction remplace les apostrophes et les traits d'unions par des espaces\n",
    "    \n",
    "    :param texte: Texte à nettoyer\n",
    "    :type texte: str\n",
    "    :returns: Texte simplifié\n",
    "    :rtype: str\n",
    "    \"\"\"\n",
    "    with open (texte) as fichier_misanthrope:\n",
    "        texte = fichier_misanthrope.read()\n",
    "        \n",
    "    texte = texte.replace(\"'\", \" \").replace(\"-\", \" \")\n",
    "    ponctuation = '!@#$%^&*()_+={}[]:;\"|<>,.?/~`'\n",
    "    for marqueur in ponctuation:\n",
    "        texte = texte.replace(marqueur, \"\").lower()\n",
    "\n",
    "    mots = texte.split()\n",
    "    \n",
    "    return comptage(mots)"
   ]
  },
  {
   "cell_type": "code",
   "execution_count": 77,
   "metadata": {},
   "outputs": [
    {
     "name": "stdout",
     "output_type": "stream",
     "text": [
      "{'sont': 1, 'vous': 13, 'ciel': 1, 'corrections': 1, 'modèle': 1, 'aussi': 2, 'une': 2, 'censures': 1, 'lieux': 1, 'dit': 1, 'et': 16, 'parler': 1, 'secrets': 1, 'ambigu': 1, 'que': 7, 'en': 7, 'm': 3, 'faveur': 1, 'ombres': 1, 'étoit': 1, 'vit': 1, 'regarder': 1, 'couvrir': 1, 'tomber': 1, 'honneur': 2, 'affectation': 1, 'oblige': 1, 'instant': 1, 'rendre': 1, 'il': 2, 'commis': 1, 'au': 2, 'encor': 1, 'innocentes': 1, 'moi': 2, 'éclats': 1, 'mines': 1, 'mérite': 1, 'choses': 1, 'mot': 1, 'aigres': 1, 'poids': 1, 'avis': 3, 'vois': 1, 'ils': 1, 'autre': 1, 'fréquentes': 1, 'modeste': 1, 'défense': 1, 'd': 10, 'du': 1, 'grand': 1, 'avoir': 1, 'mais': 4, 'lieu': 1, 'là': 1, 'elle': 6, 'éternels': 1, 'ceux': 1, 'franchement': 1, 'tour': 1, 'entretien': 1, 'la': 1, 'cela': 1, 'grâces': 1, 'vie': 1, 'aux': 3, 'paroître': 1, 'on': 4, 'a': 2, 'vaut': 1, 'très': 1, 'par': 1, 'plus': 1, 'est': 1, 'tout': 2, 'actions': 1, 'commun': 1, 'ses': 1, 'rare': 1, 'un': 13, 'extérieur': 1, 'dévots': 1, 'comme': 2, 'mieux': 1, 'dans': 2, 'sentiment': 1, 'indécence': 1, 'sage': 1, 'pris': 1, 'exemple': 1, 'montrer': 1, 'met': 1, 'exacte': 1, 'âme': 1, 'puis': 1, 'moins': 1, 'votre': 3, 'estime': 1, 'pitié': 1, 'chacun': 1, 'contre': 1, 'touche': 1, 'attache': 1, 'le': 6, 'blanc': 1, 'j': 2, 'cette': 3, 'prier': 1, 'innocence': 1, 'pas': 2, 'conclusion': 1, 'combattirent': 1, 'prendre': 3, 'dément': 1, 'médisance': 1, 'point': 2, 'vos': 7, 'soi': 1, 'qu': 6, 'trop': 1, 'pruderie': 1, 'songer': 1, 'gens': 3, 'suivre': 1, 'leur': 2, 'quelques': 1, 'cités': 1, 'feriez': 1, 'doux': 1, 'faut': 1, 'assurai': 1, 'crois': 1, 'où': 2, 'réalités': 1, 'pures': 1, 'ce': 2, 'publie': 1, 'ces': 1, 'discours': 1, 'temps': 1, 'ai': 1, 'les': 8, 'raisonnable': 1, 'cet': 1, 'mon': 2, 'veux': 1, 'à': 9, 'paye': 1, 'vrais': 1, 'apprenant': 1, 'disoient': 1, 'de': 14, 'intérêts': 1, 'peut': 1, 'des': 6, 'amie': 1, 'faire': 1, 'tel': 1, 'zèle': 3, 'prétends': 1, 'blâmé': 1, 'mien': 1, 'je': 7, 'jetez': 1, 'amour': 1, 'sagesse': 1, 'madame': 4, 'mine': 1, 'sur': 3, 'fut': 2, 'qui': 6, 'sentiments': 1, 'nudités': 1, 'yeux': 1, 'si': 2, 'bon': 2, 'l': 7, 'doit': 1, 'êtes': 1, 'reconnoître': 1, 'exemplaire': 1, 'se': 1, 'furent': 1, 'fort': 3, 'soin': 2, 'vôtres': 1, 'attribuer': 1, 'remettre': 1, 'avertissant': 1, 'trouvai': 1, 'peine': 1, 'leçons': 1, 'tableaux': 1, 'firent': 1, 'visite': 1, 'quoi': 1, 'veut': 2, 'étale': 1, 'fait': 1, 's': 1, 'mal': 1, 'avant': 1, 'jour': 1, 'ne': 3, 'besoin': 1, 'reste': 1, 'peu': 1, 'parlant': 1, 'pour': 4, 'soins': 1, 'belle': 1, 'bruits': 1, 'profitable': 1, 'dehors': 1, 'mettre': 2, 'autres': 2, 'beaucoup': 1, 'hauteur': 1, 'grave': 1, 'bien': 4, 'c': 1, 'cris': 1, 'tous': 4, 'loin': 1, 'même': 1, 'faisois': 1, 'dernier': 1, 'condamner': 1, 'mouvements': 1, 'long': 1, 'bat': 1}\n"
     ]
    }
   ],
   "source": [
    "# Votre code ici\n",
    "decompte = separateur_de_texte(\"data/misanthrope.acte3.scene4.txt\")\n",
    "print(decompte)\n",
    "\n",
    "# Les tests\n",
    "assert decompte[\"on\"] == 4\n",
    "assert decompte[\"moi\"] == 2"
   ]
  },
  {
   "cell_type": "markdown",
   "metadata": {},
   "source": [
    "### Aller plus loin : évaluer le temps d'une fonction\n",
    "\n",
    "**Cette partie n'est pas nécessaire pour avancer dans le cours. Cependant, il peut être intéressant de se pencher sur comment on évalue les performances d'un morceau de code**\n",
    "\n",
    "L'optimisation de code est une tâche extrêmement importante dans le développement d'une application. Par exemple, imaginons que nous offrions une possibilité de faire une recherche sans accent dans 10.000 fichiers à nos utilisateurs-rices en ligne. Chaque recherche va devoir ouvrir, convertir les fichiers en fichiers sans accents, convertir la recherche de notre utilisateur-rice. Autant dire que si votre code met plus de 20 secondes à trouver les résultats, votre utilisateur-rice ne fera pas beaucoup de recherches.\n",
    "\n",
    "Il s'agit alors de pouvoir évaluer comment une fonction se comporte et combien de temps elle peut prendre en la comparant avec une autre méthode d'écriture. Vous trouverez ci-dessous un exemple de morceau de code qui permet de comparer deux fonctions. Amusez-vous avec la variable `nombre_de_repetitions` !"
   ]
  },
  {
   "cell_type": "code",
   "execution_count": 29,
   "metadata": {},
   "outputs": [
    {
     "name": "stdout",
     "output_type": "stream",
     "text": [
      "Temps pris par la fonction 1 pour 10000 itérations : 0.1191670600001089\n",
      "Temps pris par la fonction 2 pour 10000 itérations : 0.09751174300072307\n"
     ]
    }
   ],
   "source": [
    "# Ceci est un import. Nous verrons cela plus en détails plus tard mais il s'agit d'importer \n",
    "# la chose portant le nom 'default_timer' de la librairie timeit\n",
    "from timeit import default_timer\n",
    "\n",
    "# On met en place un nombre de répétitions. Comparer une seule itération serait peu correct.\n",
    "nombre_de_repetitions = 10000\n",
    "\n",
    "# On prend l'heure à la seconde fractionnelle près\n",
    "temps_replacement_1 = default_timer()\n",
    "# On boucle sur range(10000) : range sera un generator qui créera toute les valeurs\n",
    "# entre 0 et 10000 exclu\n",
    "for intervention in range(nombre_de_repetitions):\n",
    "    # On supprime la ponctuation mais nous n'avons pas besoin du résultat donc on assigne\n",
    "    # pas celui-ci à une variable\n",
    "    supprimer_ponctuation(texte)\n",
    "# On compare l'heure qu'il est avec l'heure que l'on avait avant.\n",
    "# Cette comparaison est notre temps d'exécution\n",
    "temps_replacement_1 = default_timer() - temps_replacement_1\n",
    "\n",
    "\n",
    "temps_replacement_2 = default_timer()\n",
    "for intervention in range(nombre_de_repetitions):\n",
    "    supprimer_ponctuation2(texte)\n",
    "temps_replacement_2 = default_timer() - temps_replacement_2\n",
    "\n",
    "\n",
    "print(\"Temps pris par la fonction 1 pour \"+ str(nombre_de_repetitions) +\n",
    "      \" itérations : \" + str(temps_replacement_1))\n",
    "\n",
    "print(\"Temps pris par la fonction 2 pour \"+ str(nombre_de_repetitions) +\n",
    "      \" itérations : \" + str(temps_replacement_2))\n"
   ]
  },
  {
   "cell_type": "markdown",
   "metadata": {},
   "source": [
    "---\n",
    "\n",
    "#### Ce que l'on a appris\n",
    "\n",
    "Pour finir cette section, voici un récapitulatif des concepts appris. Lisez la liste et posez des questions si certaines choses ne sont pas claires.\n",
    "- `lower()`\n",
    "- `replace(__, __)`\n",
    "- (Aller plus loin) `range()`"
   ]
  },
  {
   "cell_type": "markdown",
   "metadata": {},
   "source": [
    "---"
   ]
  },
  {
   "cell_type": "markdown",
   "metadata": {},
   "source": [
    "## Ecrire dans un fichier"
   ]
  },
  {
   "cell_type": "markdown",
   "metadata": {},
   "source": [
    "On est arrivé loin ! Il reste bien sûr encore plein de choses à voir, mais bon... Réjouissons nous du chemin déjà parcouru !\n",
    "\n",
    "Regardons comment écrire simplement dans un fichier:\n"
   ]
  },
  {
   "cell_type": "code",
   "execution_count": 40,
   "metadata": {},
   "outputs": [],
   "source": [
    "# On en profite pour rappeler et que les termes input et output sont très souvent utilisés\n",
    "# en programmation\n",
    "\n",
    "output = open(\"resultats/premier-resultat.txt\", mode=\"w\")\n",
    "output.write(\"Mon premier résultat.\")\n",
    "output.close()\n",
    "\n",
    "# Ou l'équivalent :\n",
    "with open(\"resultats/deuxieme-resultat.txt\", mode=\"w\") as fichier_texte:\n",
    "    fichier_texte.write(\"Mon 2eme résultat\\n\")\n",
    "    fichier_texte.write(\"Mon 2eme résultat numéro 2\")"
   ]
  },
  {
   "cell_type": "markdown",
   "metadata": {},
   "source": [
    "Allez-y, ouvrez ces fichiers dans votre explorateur de fichiers. Vous verrez que les deux fichiers comportent les données ici définies.\n",
    "\n",
    "Si on regarde bien, les syntaxes sont très proches de ce que l'on avait fait auparavant pour lire. La différence ? La définition du paramètre `mode` avec la valeur `w` (pour *write*, écrire). Sinon, le reste est le même : on ouvre, on ferme ou on utilise `with` qui le fait lui-même.\n",
    "\n",
    "En fait, la lecture de fichier se fait en mode `r` pour *read* (lecture). Le type d'interaction à venir avec un fichier sera donc définie par le mode utilisé à son ouverture. Mais comment se fait-il que l'on puisse ne pas définir mode ?"
   ]
  },
  {
   "cell_type": "markdown",
   "metadata": {},
   "source": [
    "#### Les arguments optionnels ou défaut de python\n",
    "\n",
    "En fait Python fournit pour ses arguments la possibilité de définir des valeurs par défaut à la création de la fonction, regardez plutôt :"
   ]
  },
  {
   "cell_type": "code",
   "execution_count": 1,
   "metadata": {},
   "outputs": [],
   "source": [
    "def supprimer_ponctuation(texte, ponctuation='?,.!'):\n",
    "    \"\"\" Supprimer les caractères de ponctuation d'un texte\n",
    "    \n",
    "    :param texte: Texte à nettoyer\n",
    "    :type texte: str\n",
    "    :param ponctuation: Caractères à supprimer\n",
    "    :type ponctuation: str\n",
    "    :returns: Texte sans ponctuation\n",
    "    :rtype: str\n",
    "    \"\"\"\n",
    "    for marqueur in ponctuation:\n",
    "        texte = texte.replace(marqueur, \"\")\n",
    "    return texte\n",
    "\n",
    "a_tester = \"Je. suis. fatigué. de. devoir. écrire. des. exemples, non ?\"\n",
    "assert supprimer_ponctuation(a_tester) == supprimer_ponctuation(a_tester, \"?.,\")\n",
    "assert supprimer_ponctuation(a_tester) == supprimer_ponctuation(a_tester, ponctuation=\"?.,\")\n",
    "assert supprimer_ponctuation(a_tester) != supprimer_ponctuation(a_tester, ponctuation=\",\")"
   ]
  },
  {
   "cell_type": "markdown",
   "metadata": {},
   "source": [
    "Ici, `ponctuation` a une valeur par défaut `'?,.!'`. Cela signifie que si l'on ne donne pas de valeur à cet argument, cette valeur sera fournie par la définition de la fonction.\n",
    "\n",
    "Lisez la phrase précédente jusqu'à la comprendre.\n",
    "\n",
    "Maintenant, on remarque que `ponctuation` peut-être soit utilisé en le donnant dans l'ordre original (en deuxième position) ou en utilisant son nom : Python fournit aussi pour les fonction la possibilité d'utiliser les arguments nommés (aussi appelées arguments mot-clefs, `named argument`, `keyword argument` et en raccourci `kwargs`). Voyez plutôt :"
   ]
  },
  {
   "cell_type": "code",
   "execution_count": 2,
   "metadata": {},
   "outputs": [],
   "source": [
    "assert supprimer_ponctuation(a_tester, \",?,\") == \\\n",
    "    supprimer_ponctuation(texte=a_tester, ponctuation=\",?,\")\n",
    "assert supprimer_ponctuation(a_tester, \",?,\") == \\\n",
    "    supprimer_ponctuation(ponctuation=\",?,\", texte=a_tester)"
   ]
  },
  {
   "cell_type": "markdown",
   "metadata": {},
   "source": [
    "Relisez bien ce qui vient d'être dit, prenez le temps. Il est très important de comprendre cela avant d'avancer.\n",
    "\n",
    "---"
   ]
  },
  {
   "cell_type": "markdown",
   "metadata": {},
   "source": [
    "#### Ce que l'on a appris\n",
    "\n",
    "Pour finir cette section, voici un récapitulatif des concepts appris. Lisez la liste et posez des questions si certaines choses ne sont pas claires.\n",
    "\n",
    "- `open(_, mode=\"w\")`\n",
    "- `.write()`\n",
    "- *keyword arguments*\n",
    "- valeurs par défaut dans le fonctions\n",
    "\n",
    "---"
   ]
  },
  {
   "cell_type": "markdown",
   "metadata": {},
   "source": [
    "#### Exercice"
   ]
  },
  {
   "cell_type": "markdown",
   "metadata": {},
   "source": [
    "Dans cet exercice final, on va vous demander de calculer la distribution total des mots dans l'intégralité d'*Horace* de Corneille. Le texte a été copié depuis le prjet Théâtre Classique ( http://www.theatre-classique.fr/pages/programmes/edition.php?t=..%2Fdocuments%2FCORNEILLEP_HORACE.xml )"
   ]
  },
  {
   "cell_type": "code",
   "execution_count": 28,
   "metadata": {},
   "outputs": [],
   "source": [
    "def ecrire_colonne(distribution, fichier):\n",
    "    \"\"\" Ecrit dans un fichier chaque mot en clef de distribution avec la fréquence associée\n",
    "    dans un fichier donné.\n",
    "    \n",
    "    :param distibution: Dictionnaire où la clef est un mot et la valeur le nombre d'occurrence\n",
    "    :type distribution: dict\n",
    "    :param fichier: Fichier ouvert pour l'écriture\n",
    "    :type fichier: TextIOWrapper\n",
    "    \"\"\"\n",
    "    fichier.write(\"Mot;Distribution\\n\")\n",
    "    for mot, frequence in distribution.items():\n",
    "        fichier.write(mot + \";\" + str(frequence) + '\\n')\n",
    "\n",
    "# Ouvrir le fichier et stocker son contenu\n",
    "with open (\"data/horace.txt\") as fichier_horace:\n",
    "    texte = fichier_horace.read()\n",
    "\n",
    "# Nettoyer le texte\n",
    "ponctuation = '!@#$%^&*()_-+={}[]:;\"\\'|<>,.?/~`'\n",
    "for marqueur in ponctuation:\n",
    "    texte = texte.replace(marqueur, \" \").lower()\n",
    "\n",
    "# Calculer la distribution \n",
    "distribution = {}\n",
    "mots = texte.split()\n",
    "for mot in mots:\n",
    "    if mot not in distribution:\n",
    "        distribution[mot] = mots.count(mot)\n",
    "\n",
    "# Ouvrir le fichier `frequence_horace.txt` pour écrire\n",
    "with open(\"frequence_horace.txt\", mode=\"w\") as fichier:\n",
    "    fichier.write(\"\")\n",
    "\n",
    "# Utiliser la fonction ecrire_colonne pour écrire dans ce fichier\n",
    "    ecrire_colonne(distribution, fichier)\n"
   ]
  },
  {
   "cell_type": "markdown",
   "metadata": {},
   "source": [
    "---"
   ]
  },
  {
   "cell_type": "markdown",
   "metadata": {},
   "source": [
    "---"
   ]
  },
  {
   "cell_type": "markdown",
   "metadata": {},
   "source": [
    "<p><small><a rel=\"license\" href=\"http://creativecommons.org/licenses/by-sa/4.0/\"><img alt=\"Creative Commons License\" style=\"border-width:0\" src=\"https://i.creativecommons.org/l/by-sa/4.0/88x31.png\" /></a><br /><span xmlns:dct=\"http://purl.org/dc/terms/\" property=\"dct:title\">Python Programming for the Humanities</span> by <a xmlns:cc=\"http://creativecommons.org/ns#\" href=\"http://fbkarsdorp.github.io/python-course\" property=\"cc:attributionName\" rel=\"cc:attributionURL\">http://fbkarsdorp.github.io/python-course</a> is licensed under a <a rel=\"license\" href=\"http://creativecommons.org/licenses/by-sa/4.0/\">Creative Commons Attribution-ShareAlike 4.0 International License</a>. Based on a work at <a xmlns:dct=\"http://purl.org/dc/terms/\" href=\"https://github.com/fbkarsdorp/python-course\" rel=\"dct:source\">https://github.com/fbkarsdorp/python-course</a>.</small></p>"
   ]
  }
 ],
 "metadata": {
  "kernelspec": {
   "display_name": "Python 3",
   "language": "python",
   "name": "python3"
  },
  "language_info": {
   "codemirror_mode": {
    "name": "ipython",
    "version": 3
   },
   "file_extension": ".py",
   "mimetype": "text/x-python",
   "name": "python",
   "nbconvert_exporter": "python",
   "pygments_lexer": "ipython3",
   "version": "3.5.2"
  }
 },
 "nbformat": 4,
 "nbformat_minor": 1
}
